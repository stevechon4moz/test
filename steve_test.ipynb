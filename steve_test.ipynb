{
 "cells": [
  {
   "cell_type": "code",
   "execution_count": 1,
   "metadata": {},
   "outputs": [],
   "source": [
    "import pandas as pd\n",
    "import matplotlib.pyplot as plt\n",
    "from sklearn.linear_model import LinearRegression\n",
    "from sklearn.compose import ColumnTransformer\n",
    "from sklearn.preprocessing import OneHotEncoder, StandardScaler\n",
    "from scipy.stats import chi2_contingency"
   ]
  },
  {
   "cell_type": "code",
   "execution_count": 2,
   "metadata": {},
   "outputs": [],
   "source": [
    "# read in files\n",
    "df = pd.read_csv(\"./moz_train.csv\",sep=\"|\")\n",
    "df_test = pd.read_csv(\"./moz_test.csv\",sep=\"|\")"
   ]
  },
  {
   "cell_type": "code",
   "execution_count": 3,
   "metadata": {},
   "outputs": [
    {
     "data": {
      "text/html": [
       "<div>\n",
       "<style scoped>\n",
       "    .dataframe tbody tr th:only-of-type {\n",
       "        vertical-align: middle;\n",
       "    }\n",
       "\n",
       "    .dataframe tbody tr th {\n",
       "        vertical-align: top;\n",
       "    }\n",
       "\n",
       "    .dataframe thead th {\n",
       "        text-align: right;\n",
       "    }\n",
       "</style>\n",
       "<table border=\"1\" class=\"dataframe\">\n",
       "  <thead>\n",
       "    <tr style=\"text-align: right;\">\n",
       "      <th></th>\n",
       "      <th>id</th>\n",
       "      <th>industry</th>\n",
       "      <th>geography</th>\n",
       "      <th>most_common_browser</th>\n",
       "      <th>session_time_prior_month_seconds</th>\n",
       "      <th>prior_month_paid</th>\n",
       "    </tr>\n",
       "  </thead>\n",
       "  <tbody>\n",
       "    <tr>\n",
       "      <td>count</td>\n",
       "      <td>4.800000e+04</td>\n",
       "      <td>40636</td>\n",
       "      <td>48000</td>\n",
       "      <td>48000</td>\n",
       "      <td>48000.000000</td>\n",
       "      <td>48000.000000</td>\n",
       "    </tr>\n",
       "    <tr>\n",
       "      <td>unique</td>\n",
       "      <td>NaN</td>\n",
       "      <td>8</td>\n",
       "      <td>16</td>\n",
       "      <td>4</td>\n",
       "      <td>NaN</td>\n",
       "      <td>NaN</td>\n",
       "    </tr>\n",
       "    <tr>\n",
       "      <td>top</td>\n",
       "      <td>NaN</td>\n",
       "      <td>health care</td>\n",
       "      <td>USA</td>\n",
       "      <td>Chrome</td>\n",
       "      <td>NaN</td>\n",
       "      <td>NaN</td>\n",
       "    </tr>\n",
       "    <tr>\n",
       "      <td>freq</td>\n",
       "      <td>NaN</td>\n",
       "      <td>6052</td>\n",
       "      <td>8573</td>\n",
       "      <td>24194</td>\n",
       "      <td>NaN</td>\n",
       "      <td>NaN</td>\n",
       "    </tr>\n",
       "    <tr>\n",
       "      <td>mean</td>\n",
       "      <td>4.997442e+09</td>\n",
       "      <td>NaN</td>\n",
       "      <td>NaN</td>\n",
       "      <td>NaN</td>\n",
       "      <td>1952.151854</td>\n",
       "      <td>85.624461</td>\n",
       "    </tr>\n",
       "    <tr>\n",
       "      <td>std</td>\n",
       "      <td>2.896754e+09</td>\n",
       "      <td>NaN</td>\n",
       "      <td>NaN</td>\n",
       "      <td>NaN</td>\n",
       "      <td>2579.835645</td>\n",
       "      <td>32.754654</td>\n",
       "    </tr>\n",
       "    <tr>\n",
       "      <td>min</td>\n",
       "      <td>3.134830e+05</td>\n",
       "      <td>NaN</td>\n",
       "      <td>NaN</td>\n",
       "      <td>NaN</td>\n",
       "      <td>1.000000</td>\n",
       "      <td>0.040000</td>\n",
       "    </tr>\n",
       "    <tr>\n",
       "      <td>25%</td>\n",
       "      <td>2.481218e+09</td>\n",
       "      <td>NaN</td>\n",
       "      <td>NaN</td>\n",
       "      <td>NaN</td>\n",
       "      <td>612.000000</td>\n",
       "      <td>63.845328</td>\n",
       "    </tr>\n",
       "    <tr>\n",
       "      <td>50%</td>\n",
       "      <td>4.993512e+09</td>\n",
       "      <td>NaN</td>\n",
       "      <td>NaN</td>\n",
       "      <td>NaN</td>\n",
       "      <td>1210.000000</td>\n",
       "      <td>87.822595</td>\n",
       "    </tr>\n",
       "    <tr>\n",
       "      <td>75%</td>\n",
       "      <td>7.516707e+09</td>\n",
       "      <td>NaN</td>\n",
       "      <td>NaN</td>\n",
       "      <td>NaN</td>\n",
       "      <td>2289.000000</td>\n",
       "      <td>111.080471</td>\n",
       "    </tr>\n",
       "    <tr>\n",
       "      <td>max</td>\n",
       "      <td>9.999608e+09</td>\n",
       "      <td>NaN</td>\n",
       "      <td>NaN</td>\n",
       "      <td>NaN</td>\n",
       "      <td>50233.000000</td>\n",
       "      <td>165.758664</td>\n",
       "    </tr>\n",
       "  </tbody>\n",
       "</table>\n",
       "</div>"
      ],
      "text/plain": [
       "                  id     industry geography most_common_browser  \\\n",
       "count   4.800000e+04        40636     48000               48000   \n",
       "unique           NaN            8        16                   4   \n",
       "top              NaN  health care       USA              Chrome   \n",
       "freq             NaN         6052      8573               24194   \n",
       "mean    4.997442e+09          NaN       NaN                 NaN   \n",
       "std     2.896754e+09          NaN       NaN                 NaN   \n",
       "min     3.134830e+05          NaN       NaN                 NaN   \n",
       "25%     2.481218e+09          NaN       NaN                 NaN   \n",
       "50%     4.993512e+09          NaN       NaN                 NaN   \n",
       "75%     7.516707e+09          NaN       NaN                 NaN   \n",
       "max     9.999608e+09          NaN       NaN                 NaN   \n",
       "\n",
       "        session_time_prior_month_seconds  prior_month_paid  \n",
       "count                       48000.000000      48000.000000  \n",
       "unique                               NaN               NaN  \n",
       "top                                  NaN               NaN  \n",
       "freq                                 NaN               NaN  \n",
       "mean                         1952.151854         85.624461  \n",
       "std                          2579.835645         32.754654  \n",
       "min                             1.000000          0.040000  \n",
       "25%                           612.000000         63.845328  \n",
       "50%                          1210.000000         87.822595  \n",
       "75%                          2289.000000        111.080471  \n",
       "max                         50233.000000        165.758664  "
      ]
     },
     "execution_count": 3,
     "metadata": {},
     "output_type": "execute_result"
    }
   ],
   "source": [
    "df.describe(include='all') # overview of full data"
   ]
  },
  {
   "cell_type": "code",
   "execution_count": 4,
   "metadata": {},
   "outputs": [
    {
     "data": {
      "text/plain": [
       "id                                    int64\n",
       "industry                             object\n",
       "geography                            object\n",
       "most_common_browser                  object\n",
       "session_time_prior_month_seconds      int64\n",
       "prior_month_paid                    float64\n",
       "dtype: object"
      ]
     },
     "execution_count": 4,
     "metadata": {},
     "output_type": "execute_result"
    }
   ],
   "source": [
    "df.dtypes"
   ]
  },
  {
   "cell_type": "code",
   "execution_count": 5,
   "metadata": {},
   "outputs": [
    {
     "data": {
      "text/plain": [
       "False"
      ]
     },
     "execution_count": 5,
     "metadata": {},
     "output_type": "execute_result"
    }
   ],
   "source": [
    "df['industry'].value_counts()\n",
    "df['geography'].value_counts()\n",
    "df['most_common_browser'].value_counts()\n",
    "df['prior_month_paid'].isnull().values.any()\n",
    "df['session_time_prior_month_seconds'].isnull().values.any()"
   ]
  },
  {
   "cell_type": "code",
   "execution_count": 6,
   "metadata": {},
   "outputs": [
    {
     "data": {
      "text/plain": [
       "USA               8573\n",
       "CA                5381\n",
       "Canada            5328\n",
       "US                4309\n",
       "America           4305\n",
       "United States     4270\n",
       "UK                2114\n",
       "Pakistan          1797\n",
       "Greece            1782\n",
       "India             1773\n",
       "Spain             1748\n",
       "France            1739\n",
       "Esp               1735\n",
       "GB                1118\n",
       "United Kingdom    1029\n",
       "England            999\n",
       "Name: geography, dtype: int64"
      ]
     },
     "execution_count": 6,
     "metadata": {},
     "output_type": "execute_result"
    }
   ],
   "source": [
    "\n",
    "df['geography'].value_counts()"
   ]
  },
  {
   "cell_type": "code",
   "execution_count": 7,
   "metadata": {},
   "outputs": [],
   "source": [
    "df.isna().sum()\n",
    "df['industry'].fillna(value=\"None\", inplace=True) # fill in fake values for null\n",
    "df_test.isna().sum()\n",
    "df_test['industry'].fillna(value=\"None\", inplace=True) # fill in fake values for null"
   ]
  },
  {
   "cell_type": "code",
   "execution_count": 8,
   "metadata": {},
   "outputs": [
    {
     "data": {
      "text/html": [
       "<div>\n",
       "<style scoped>\n",
       "    .dataframe tbody tr th:only-of-type {\n",
       "        vertical-align: middle;\n",
       "    }\n",
       "\n",
       "    .dataframe tbody tr th {\n",
       "        vertical-align: top;\n",
       "    }\n",
       "\n",
       "    .dataframe thead th {\n",
       "        text-align: right;\n",
       "    }\n",
       "</style>\n",
       "<table border=\"1\" class=\"dataframe\">\n",
       "  <thead>\n",
       "    <tr style=\"text-align: right;\">\n",
       "      <th></th>\n",
       "      <th>id</th>\n",
       "      <th>session_time_prior_month_seconds</th>\n",
       "      <th>prior_month_paid</th>\n",
       "    </tr>\n",
       "  </thead>\n",
       "  <tbody>\n",
       "    <tr>\n",
       "      <td>id</td>\n",
       "      <td>1.000000</td>\n",
       "      <td>0.001831</td>\n",
       "      <td>-0.001129</td>\n",
       "    </tr>\n",
       "    <tr>\n",
       "      <td>session_time_prior_month_seconds</td>\n",
       "      <td>0.001831</td>\n",
       "      <td>1.000000</td>\n",
       "      <td>0.217124</td>\n",
       "    </tr>\n",
       "    <tr>\n",
       "      <td>prior_month_paid</td>\n",
       "      <td>-0.001129</td>\n",
       "      <td>0.217124</td>\n",
       "      <td>1.000000</td>\n",
       "    </tr>\n",
       "  </tbody>\n",
       "</table>\n",
       "</div>"
      ],
      "text/plain": [
       "                                        id  session_time_prior_month_seconds  \\\n",
       "id                                1.000000                          0.001831   \n",
       "session_time_prior_month_seconds  0.001831                          1.000000   \n",
       "prior_month_paid                 -0.001129                          0.217124   \n",
       "\n",
       "                                  prior_month_paid  \n",
       "id                                       -0.001129  \n",
       "session_time_prior_month_seconds          0.217124  \n",
       "prior_month_paid                          1.000000  "
      ]
     },
     "execution_count": 8,
     "metadata": {},
     "output_type": "execute_result"
    }
   ],
   "source": [
    "df.corr() # relatively weak correlation between the 2 continuous variables (if it were strong, we could perhaps do a simple linear regression)"
   ]
  },
  {
   "cell_type": "code",
   "execution_count": 9,
   "metadata": {},
   "outputs": [
    {
     "data": {
      "text/plain": [
       "(131.58733682257377,\n",
       " 0.22128204498782403,\n",
       " 120,\n",
       " array([[ 539.20125   ,  673.97025   ,  667.332     ,  125.12475   ,\n",
       "          217.30875   ,  217.80975   ,  140.0295    ,  223.1955    ,\n",
       "          222.06825   ,  225.07425   ,  218.937     ,  264.7785    ,\n",
       "          539.70225   , 1073.76825   ,  128.88225   ,  534.8175    ],\n",
       "        [ 660.45875   ,  825.53508333,  817.404     ,  153.26325   ,\n",
       "          266.17791667,  266.79158333,  171.51983333,  273.3885    ,\n",
       "          272.00775   ,  275.68975   ,  268.17233333,  324.32283333,\n",
       "          661.07241667, 1315.24108333,  157.86575   ,  655.08916667],\n",
       "        [ 542.78875   ,  678.45441667,  671.772     ,  125.95725   ,\n",
       "          218.75458333,  219.25891667,  140.96116667,  224.6805    ,\n",
       "          223.54575   ,  226.57175   ,  220.39366667,  266.54016667,\n",
       "          543.29308333, 1080.91241667,  129.73975   ,  538.37583333],\n",
       "        [ 530.1428125 ,  662.64772917,  656.121     ,  123.0226875 ,\n",
       "          213.65802083,  214.15060417,  137.67704167,  219.445875  ,\n",
       "          218.3375625 ,  221.2930625 ,  215.25891667,  260.33029167,\n",
       "          530.63539583, 1055.72922917,  126.7170625 ,  525.83270833],\n",
       "        [ 542.78875   ,  678.45441667,  671.772     ,  125.95725   ,\n",
       "          218.75458333,  219.25891667,  140.96116667,  224.6805    ,\n",
       "          223.54575   ,  226.57175   ,  220.39366667,  266.54016667,\n",
       "          543.29308333, 1080.91241667,  129.73975   ,  538.37583333],\n",
       "        [ 540.9053125 ,  676.10022917,  669.441     ,  125.5201875 ,\n",
       "          217.99552083,  218.49810417,  140.47204167,  223.900875  ,\n",
       "          222.7700625 ,  225.7855625 ,  219.62891667,  265.61529167,\n",
       "          541.40789583, 1077.16172917,  129.2895625 ,  536.50770833],\n",
       "        [ 527.2728125 ,  659.06039583,  652.569     ,  122.3566875 ,\n",
       "          212.50135417,  212.99127083,  136.93170833,  218.257875  ,\n",
       "          217.1555625 ,  220.0950625 ,  214.09358333,  258.92095833,\n",
       "          527.76272917, 1050.01389583,  126.0310625 ,  522.98604167],\n",
       "        [ 212.200625  ,  265.23845833,  262.626     ,   49.242375  ,\n",
       "           85.52104167,   85.71820833,   55.10808333,   87.83775   ,\n",
       "           87.394125  ,   88.577125  ,   86.16183333,  104.20258333,\n",
       "          212.39779167,  422.57745833,   50.721125  ,  210.47541667],\n",
       "        [ 209.2409375 ,  261.53902083,  258.963     ,   48.5555625 ,\n",
       "           84.32822917,   84.52264583,   54.33945833,   86.612625  ,\n",
       "           86.1751875 ,   87.3416875 ,   84.96008333,  102.74920833,\n",
       "          209.43535417,  416.68352083,   50.0136875 ,  207.53979167]]))"
      ]
     },
     "execution_count": 9,
     "metadata": {},
     "output_type": "execute_result"
    }
   ],
   "source": [
    "chi2_contingency(pd.crosstab(df['industry'], df['geography'])) # p > 0.05 so independent (look at relationship b/w categorical)"
   ]
  },
  {
   "cell_type": "code",
   "execution_count": 10,
   "metadata": {},
   "outputs": [
    {
     "data": {
      "text/plain": [
       "(29.617311614743304,\n",
       " 0.9626576944608211,\n",
       " 45,\n",
       " array([[2169.899375  , 2712.24820833, 2685.534     ,  503.537625  ,\n",
       "          874.51229167,  876.52845833,  563.51858333,  898.20225   ,\n",
       "          893.665875  ,  905.762875  ,  881.06483333, 1065.54408333,\n",
       "         2171.91554167, 4321.14920833,  518.658875  , 2152.25791667],\n",
       "        [ 710.4146875 ,  887.97710417,  879.231     ,  164.8558125 ,\n",
       "          286.31114583,  286.97122917,  184.49329167,  294.067125  ,\n",
       "          292.5819375 ,  296.5424375 ,  288.45641667,  348.85404167,\n",
       "          711.07477083, 1414.72360417,  169.8064375 ,  704.63895833],\n",
       "        [ 711.6703125 ,  889.5465625 ,  880.785     ,  165.1471875 ,\n",
       "          286.8171875 ,  287.4784375 ,  184.819375  ,  294.586875  ,\n",
       "          293.0990625 ,  297.0665625 ,  288.96625   ,  349.470625  ,\n",
       "          712.3315625 , 1417.2240625 ,  170.1065625 ,  705.884375  ],\n",
       "        [ 713.015625  ,  891.228125  ,  882.45      ,  165.459375  ,\n",
       "          287.359375  ,  288.021875  ,  185.16875   ,  295.14375   ,\n",
       "          293.653125  ,  297.628125  ,  289.5125    ,  350.13125   ,\n",
       "          713.678125  , 1419.903125  ,  170.428125  ,  707.21875   ]]))"
      ]
     },
     "execution_count": 10,
     "metadata": {},
     "output_type": "execute_result"
    }
   ],
   "source": [
    "chi2_contingency(pd.crosstab(df['most_common_browser'], df['geography'])) # p > 0.05 so independent (look at relationship b/w categorical)"
   ]
  },
  {
   "cell_type": "code",
   "execution_count": 11,
   "metadata": {},
   "outputs": [
    {
     "data": {
      "text/plain": [
       "(28.361775599120328,\n",
       " 0.24507692416632806,\n",
       " 24,\n",
       " array([[3030.2985    , 3711.76283333, 3050.46016667, 2979.39029167,\n",
       "         3050.46016667, 3039.87529167, 2963.26095833, 1192.56258333,\n",
       "         1175.92920833],\n",
       "        [ 992.10525   , 1215.21341667,  998.70608333,  975.43814583,\n",
       "          998.70608333,  995.24064583,  970.15747917,  390.43929167,\n",
       "          384.99360417],\n",
       "        [ 993.85875   , 1217.36125   , 1000.47125   ,  977.1621875 ,\n",
       "         1000.47125   ,  996.9996875 ,  971.8721875 ,  391.129375  ,\n",
       "          385.6740625 ],\n",
       "        [ 995.7375    , 1219.6625    , 1002.3625    ,  979.009375  ,\n",
       "         1002.3625    ,  998.884375  ,  973.709375  ,  391.86875   ,\n",
       "          386.403125  ]]))"
      ]
     },
     "execution_count": 11,
     "metadata": {},
     "output_type": "execute_result"
    }
   ],
   "source": [
    "chi2_contingency(pd.crosstab(df['most_common_browser'], df['industry'])) # p > 0.05 so independent (look at relationship b/w categorical)"
   ]
  },
  {
   "cell_type": "code",
   "execution_count": 12,
   "metadata": {},
   "outputs": [
    {
     "data": {
      "image/png": "[encoded data removed]",
      "text/plain": [
       "<Figure size 432x288 with 1 Axes>"
      ]
     },
     "metadata": {
      "needs_background": "light"
     },
     "output_type": "display_data"
    }
   ],
   "source": [
    "hist = df['session_time_prior_month_seconds'].hist(bins=10) # indicates there are outliers (option: we could trim these)"
   ]
  },
  {
   "cell_type": "code",
   "execution_count": 13,
   "metadata": {},
   "outputs": [
    {
     "data": {
      "image/png": "[encoded data removed]",
      "text/plain": [
       "<Figure size 432x288 with 1 Axes>"
      ]
     },
     "metadata": {
      "needs_background": "light"
     },
     "output_type": "display_data"
    }
   ],
   "source": [
    "hist = df['prior_month_paid'].hist(bins=10) # no major outliers"
   ]
  },
  {
   "cell_type": "code",
   "execution_count": 14,
   "metadata": {},
   "outputs": [
    {
     "data": {
      "image/png": "[encoded data removed]",
      "text/plain": [
       "<Figure size 432x288 with 1 Axes>"
      ]
     },
     "metadata": {
      "needs_background": "light"
     },
     "output_type": "display_data"
    }
   ],
   "source": [
    "# look at visual relationship between session time and prior month paid\n",
    "plt.scatter(df['session_time_prior_month_seconds'], df['prior_month_paid'])\n",
    "plt.show() "
   ]
  },
  {
   "cell_type": "code",
   "execution_count": 15,
   "metadata": {},
   "outputs": [
    {
     "data": {
      "image/png": "[encoded data removed]",
      "text/plain": [
       "<Figure size 432x288 with 1 Axes>"
      ]
     },
     "metadata": {
      "needs_background": "light"
     },
     "output_type": "display_data"
    }
   ],
   "source": [
    "# trimming is an option if there are outliers (this was done purely for investigation purposes)\n",
    "q = df[\"session_time_prior_month_seconds\"].quantile(0.95)\n",
    "df_trimmed = df[df[\"session_time_prior_month_seconds\"] < q]\n",
    "plt.scatter(df_trimmed['session_time_prior_month_seconds'], df_trimmed['prior_month_paid'])\n",
    "plt.show() "
   ]
  },
  {
   "cell_type": "code",
   "execution_count": 16,
   "metadata": {},
   "outputs": [],
   "source": [
    "# assign data \n",
    "X = df['session_time_prior_month_seconds'].to_numpy().reshape(-1,1)\n",
    "y = df['prior_month_paid'].to_numpy().reshape(-1,1)\n",
    "X_test = df_test['session_time_prior_month_seconds'].to_numpy().reshape(-1,1)\n",
    "y_test = df_test['prior_month_paid'].to_numpy().reshape(-1,1)"
   ]
  },
  {
   "cell_type": "code",
   "execution_count": null,
   "metadata": {},
   "outputs": [],
   "source": []
  },
  {
   "cell_type": "code",
   "execution_count": null,
   "metadata": {},
   "outputs": [],
   "source": []
  }
 ],
 "metadata": {
  "kernelspec": {
   "display_name": "Python 3",
   "language": "python",
   "name": "python3"
  },
  "language_info": {
   "codemirror_mode": {
    "name": "ipython",
    "version": 3
   },
   "file_extension": ".py",
   "mimetype": "text/x-python",
   "name": "python",
   "nbconvert_exporter": "python",
   "pygments_lexer": "ipython3",
   "version": "3.7.4"
  }
 },
 "nbformat": 4,
 "nbformat_minor": 2
}
